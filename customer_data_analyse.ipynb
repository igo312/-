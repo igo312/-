{
 "cells": [
  {
   "cell_type": "code",
   "execution_count": 1,
   "metadata": {
    "collapsed": true
   },
   "outputs": [],
   "source": [
    "import pandas as pd \n",
    "import matplotlib.pyplot as plt\n",
    "import numpy as np \n",
    "\n",
    "person_data = pd.read_csv(r'F:\\datasets\\customer&fixed-position/trainperson-ccf_first_round_user_shop_behavior.csv')\n",
    "shop_data = pd.read_csv(r'F:\\datasets\\customer&fixed-position/trainshop-ccf_first_round_shop_info.csv')\n",
    "test_data = pd.read_csv(r'F:\\datasets\\customer&fixed-position/ABtest-evaluation_public.csv')"
   ]
  },
  {
   "cell_type": "code",
   "execution_count": 2,
   "metadata": {},
   "outputs": [
    {
     "name": "stdout",
     "output_type": "stream",
     "text": [
      "The elements of person data Index(['user_id', 'shop_id', 'time_stamp', 'longitude', 'latitude',\n",
      "       'wifi_infos'],\n",
      "      dtype='object')\n",
      "The elements of shop data Index(['shop_id', 'category_id', 'longitude', 'latitude', 'price', 'mall_id'], dtype='object')\n",
      "The elements of test_data Index(['row_id', 'user_id', 'mall_id', 'time_stamp', 'longitude', 'latitude',\n",
      "       'wifi_infos'],\n",
      "      dtype='object')\n",
      "  user_id    shop_id        time_stamp   longitude   latitude  \\\n",
      "0   u_376  s_2871718  2017-08-06 21:20  122.308291  32.088040   \n",
      "1   u_376  s_2871718  2017-08-06 21:20  122.308162  32.087970   \n",
      "2  u_1041   s_181637  2017-08-02 13:10  117.365255  40.638214   \n",
      "3  u_1158   s_609470  2017-08-13 12:30  121.134451  31.197416   \n",
      "\n",
      "                                          wifi_infos  \n",
      "0  b_6396480|-67|false;b_41124514|-86|false;b_287...  \n",
      "1  b_6396480|-67|false;b_56328155|-73|false;b_411...  \n",
      "2  b_8006367|-78|false;b_2485110|-52|false;b_3005...  \n",
      "3  b_26250579|-73|false;b_26250580|-64|false;b_26...  \n",
      "  shop_id category_id   longitude   latitude  price mall_id\n",
      "0    s_26         c_4  122.346736  31.833507     57   m_690\n",
      "1   s_133         c_6  121.134362  31.197511     58  m_6587\n",
      "2   s_251        c_38  121.000505  30.907667     34  m_5892\n",
      "3   s_372        c_30  119.864982  26.659876     44   m_625\n",
      "4   s_456        c_26  122.594243  31.581499     44  m_3839\n"
     ]
    }
   ],
   "source": [
    "print('The elements of person data',person_data.columns)\n",
    "print('The elements of shop data',shop_data.columns)\n",
    "print('The elements of test_data',test_data.columns)\n",
    "print(person_data.head(4))\n",
    "print(shop_data.head())"
   ]
  },
  {
   "cell_type": "code",
   "execution_count": 3,
   "metadata": {},
   "outputs": [
    {
     "data": {
      "text/plain": [
       "' So the label is so big ahhhhhh'"
      ]
     },
     "execution_count": 3,
     "metadata": {},
     "output_type": "execute_result"
    }
   ],
   "source": [
    "''' To find out if there are limited numbers of location'''\n",
    "\n",
    "# The main purpose is to find the location_shop to get the label\n",
    "location_shop = list(zip(list(shop_data['latitude']),list(shop_data['longitude'])))\n",
    "location_person = list(zip(list(person_data['latitude']),list(person_data['longitude'])))\n",
    "#print(location_shop[:4])\n",
    "#print('The number of shops data,and the number of shop',len(location_shop),len(set(location_shop)))\n",
    "\n",
    "''' So the label is so big ahhhhhh'''"
   ]
  },
  {
   "cell_type": "code",
   "execution_count": 4,
   "metadata": {},
   "outputs": [
    {
     "data": {
      "text/plain": [
       "' So how about the mall \\n    Oh shit I forget the shop_id and mall _id'"
      ]
     },
     "execution_count": 4,
     "metadata": {},
     "output_type": "execute_result"
    }
   ],
   "source": [
    "''' So how about the mall \n",
    "    Oh shit I forget the shop_id and mall _id'''"
   ]
  },
  {
   "cell_type": "code",
   "execution_count": 5,
   "metadata": {},
   "outputs": [
    {
     "name": "stdout",
     "output_type": "stream",
     "text": [
      "['s_26' 'c_4' 122.346736 31.833507 57 'm_690']\n",
      "['s_133' 'c_6' 121.13436200000001 31.197511 58 'm_6587']\n",
      "['s_251' 'c_38' 121.000505 30.907667 34 'm_5892']\n",
      "['s_372' 'c_30' 119.86498200000001 26.659876 44 'm_625']\n",
      "['s_456' 'c_26' 122.59424299999999 31.581498999999997 44 'm_3839']\n"
     ]
    }
   ],
   "source": [
    "# Show the data\n",
    "\n",
    "for data in shop_data.values[:5]:\n",
    "    print(data)"
   ]
  },
  {
   "cell_type": "code",
   "execution_count": 6,
   "metadata": {},
   "outputs": [
    {
     "data": {
      "text/html": [
       "<div>\n",
       "<style>\n",
       "    .dataframe thead tr:only-child th {\n",
       "        text-align: right;\n",
       "    }\n",
       "\n",
       "    .dataframe thead th {\n",
       "        text-align: left;\n",
       "    }\n",
       "\n",
       "    .dataframe tbody tr th {\n",
       "        vertical-align: top;\n",
       "    }\n",
       "</style>\n",
       "<table border=\"1\" class=\"dataframe\">\n",
       "  <thead>\n",
       "    <tr style=\"text-align: right;\">\n",
       "      <th></th>\n",
       "      <th>shop_id</th>\n",
       "      <th>category_id</th>\n",
       "      <th>longitude</th>\n",
       "      <th>latitude</th>\n",
       "      <th>price</th>\n",
       "      <th>mall_id</th>\n",
       "    </tr>\n",
       "  </thead>\n",
       "  <tbody>\n",
       "    <tr>\n",
       "      <th>0</th>\n",
       "      <td>s_26</td>\n",
       "      <td>c_4</td>\n",
       "      <td>122.346736</td>\n",
       "      <td>31.833507</td>\n",
       "      <td>57</td>\n",
       "      <td>m_690</td>\n",
       "    </tr>\n",
       "    <tr>\n",
       "      <th>1</th>\n",
       "      <td>s_133</td>\n",
       "      <td>c_6</td>\n",
       "      <td>121.134362</td>\n",
       "      <td>31.197511</td>\n",
       "      <td>58</td>\n",
       "      <td>m_6587</td>\n",
       "    </tr>\n",
       "    <tr>\n",
       "      <th>2</th>\n",
       "      <td>s_251</td>\n",
       "      <td>c_38</td>\n",
       "      <td>121.000505</td>\n",
       "      <td>30.907667</td>\n",
       "      <td>34</td>\n",
       "      <td>m_5892</td>\n",
       "    </tr>\n",
       "    <tr>\n",
       "      <th>3</th>\n",
       "      <td>s_372</td>\n",
       "      <td>c_30</td>\n",
       "      <td>119.864982</td>\n",
       "      <td>26.659876</td>\n",
       "      <td>44</td>\n",
       "      <td>m_625</td>\n",
       "    </tr>\n",
       "    <tr>\n",
       "      <th>4</th>\n",
       "      <td>s_456</td>\n",
       "      <td>c_26</td>\n",
       "      <td>122.594243</td>\n",
       "      <td>31.581499</td>\n",
       "      <td>44</td>\n",
       "      <td>m_3839</td>\n",
       "    </tr>\n",
       "  </tbody>\n",
       "</table>\n",
       "</div>"
      ],
      "text/plain": [
       "  shop_id category_id   longitude   latitude  price mall_id\n",
       "0    s_26         c_4  122.346736  31.833507     57   m_690\n",
       "1   s_133         c_6  121.134362  31.197511     58  m_6587\n",
       "2   s_251        c_38  121.000505  30.907667     34  m_5892\n",
       "3   s_372        c_30  119.864982  26.659876     44   m_625\n",
       "4   s_456        c_26  122.594243  31.581499     44  m_3839"
      ]
     },
     "execution_count": 6,
     "metadata": {},
     "output_type": "execute_result"
    }
   ],
   "source": [
    "shop_data.head()"
   ]
  },
  {
   "cell_type": "code",
   "execution_count": 7,
   "metadata": {},
   "outputs": [
    {
     "name": "stdout",
     "output_type": "stream",
     "text": [
      "The number of the mall 97\n"
     ]
    },
    {
     "data": {
      "image/png": "[encoded data removed]",
      "text/plain": [
       "<matplotlib.figure.Figure at 0x1e0a1007c88>"
      ]
     },
     "metadata": {},
     "output_type": "display_data"
    }
   ],
   "source": [
    "''' So the first we need to locate the mall\n",
    "    I'll plot a graph to show if the shop will be a cluster'''\n",
    "\n",
    "\n",
    "# Get a dict consist of the mall_id and the location corresponding\n",
    "\n",
    "#data[5] means shop_id ; data[2] means latitude; data[3] means longitude\n",
    "location_shop = {}\n",
    "for data in shop_data.values:\n",
    "    if data[5] not in location_shop.keys():\n",
    "        location_shop[data[5]] = [(data[2],data[3])]\n",
    "    else: location_shop[data[5]].append((data[2],data[3]))\n",
    "        \n",
    "print('The number of the mall',len(location_shop.keys()))\n",
    "\n",
    "for mall_id in location_shop.keys():\n",
    "    buff = np.asarray(location_shop[mall_id])\n",
    "    plt.scatter(buff[:,0],buff[:,1])\n",
    "\n",
    "plt.title('The SHOP GRAPH')\n",
    "plt.xlabel('latitude');plt.ylabel('longtitude')\n",
    "plt.show()"
   ]
  },
  {
   "cell_type": "code",
   "execution_count": 8,
   "metadata": {},
   "outputs": [
    {
     "data": {
      "text/plain": [
       "str"
      ]
     },
     "execution_count": 8,
     "metadata": {},
     "output_type": "execute_result"
    }
   ],
   "source": [
    "type(person_data['wifi_infos'][0])"
   ]
  },
  {
   "cell_type": "code",
   "execution_count": 9,
   "metadata": {},
   "outputs": [
    {
     "data": {
      "text/plain": [
       "'b_6396480|-67|false;b_41124514|-86|false;b_28723327|-90|false;b_6396479|-55|false;b_8764723|-90|false;b_32053319|-74|false;b_5857370|-68|false;b_56326644|-89|false;b_56328155|-77|false;b_5857369|-55|false'"
      ]
     },
     "execution_count": 9,
     "metadata": {},
     "output_type": "execute_result"
    }
   ],
   "source": [
    "person_data['wifi_infos'][0]"
   ]
  },
  {
   "cell_type": "code",
   "execution_count": 10,
   "metadata": {},
   "outputs": [
    {
     "name": "stdout",
     "output_type": "stream",
     "text": [
      "m_1021    [(107.516848, 29.738175), (107.516225, 29.7378...\n",
      "m_1085    [(123.801051, 42.367171), (123.80129699999999,...\n",
      "m_1089    [(118.20491100000001, 24.782885), (118.20382, ...\n",
      "dtype: object\n"
     ]
    }
   ],
   "source": [
    "shop_mall = pd.Series(location_shop)\n",
    "print(shop_mall.head(3))\n",
    "shop_mall.to_csv(r'F:\\datasets\\customer&fixed-position\\data/shop2mall.csv')"
   ]
  },
  {
   "cell_type": "code",
   "execution_count": 17,
   "metadata": {
    "collapsed": true
   },
   "outputs": [],
   "source": [
    "# create a csv to give a digit_id for shop_id, mall_id \n",
    "shop_id = shop_data['shop_id']\n",
    "mall_id = shop_data['mall_id']\n",
    "\n",
    "shop_dic = {}; mall_dic = {}\n",
    "for index,ids in enumerate(shop_id):\n",
    "    shop_dic[ids] = index\n",
    "\n",
    "for i in range(mall_id.shape[0]):\n",
    "    mall_dic[mall_id[i]] = i\n",
    "    \n",
    "df0 = pd.DataFrame({'shop_id':list(shop_dic.keys()),\n",
    "                    'shop_digit_id':list(shop_dic.values())})                 \n",
    "df0.to_csv(r'F:\\datasets\\customer&fixed-position\\data/shop_id.csv')\n",
    "\n",
    "df1 = pd.DataFrame({'mall_id':list(mall_dic.keys()),\n",
    "                   'mall_digit_id':list(mall_dic.values())})\n",
    "df1.to_csv(r'F:\\datasets\\customer&fixed-position\\data/mall_id.csv')"
   ]
  },
  {
   "cell_type": "code",
   "execution_count": 18,
   "metadata": {},
   "outputs": [
    {
     "data": {
      "text/plain": [
       "8476"
      ]
     },
     "execution_count": 18,
     "metadata": {},
     "output_type": "execute_result"
    }
   ],
   "source": [
    "i"
   ]
  },
  {
   "cell_type": "code",
   "execution_count": null,
   "metadata": {
    "collapsed": true
   },
   "outputs": [],
   "source": []
  }
 ],
 "metadata": {
  "kernelspec": {
   "display_name": "Python 3",
   "language": "python",
   "name": "python3"
  },
  "language_info": {
   "codemirror_mode": {
    "name": "ipython",
    "version": 3
   },
   "file_extension": ".py",
   "mimetype": "text/x-python",
   "name": "python",
   "nbconvert_exporter": "python",
   "pygments_lexer": "ipython3",
   "version": "3.6.2"
  }
 },
 "nbformat": 4,
 "nbformat_minor": 2
}
